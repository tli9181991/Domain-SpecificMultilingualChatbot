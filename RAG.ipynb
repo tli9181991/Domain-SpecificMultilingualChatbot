{
 "cells": [
  {
   "cell_type": "code",
   "execution_count": 11,
   "id": "41c7d420-e117-442c-ae81-b7cfbf778a58",
   "metadata": {},
   "outputs": [],
   "source": [
    "import bs4\n",
    "from langchain_community.document_loaders import WebBaseLoader, PyPDFLoader, Docx2txtLoader\n",
    "from langchain_text_splitters import RecursiveCharacterTextSplitter\n",
    "from langchain_ollama import OllamaEmbeddings\n",
    "from langchain_community.vectorstores import FAISS\n",
    "from langchain_ollama.llms import OllamaLLM\n",
    "from langchain.chains import RetrievalQA\n",
    "from langchain.chains import create_history_aware_retriever, create_retrieval_chain\n",
    "from langchain.chains.combine_documents import create_stuff_documents_chain\n",
    "from langchain_core.prompts import ChatPromptTemplate, MessagesPlaceholder\n",
    "from langchain_community.chat_message_histories import ChatMessageHistory\n",
    "from langchain_core.runnables.history import RunnableWithMessageHistory\n",
    "from langchain_core.chat_history import BaseChatMessageHistory\n",
    "import os"
   ]
  },
  {
   "cell_type": "code",
   "execution_count": 2,
   "id": "3c33576b-1274-4ce5-bf7a-6f54b6fb6c07",
   "metadata": {},
   "outputs": [],
   "source": [
    "async def get_website_docs(urls_path='./data/ITFAQ_websit.txt'):\n",
    "    # Clean URLs\n",
    "    with open(urls_path, 'r') as f:\n",
    "        urls = [url.strip() for url in f.readlines() if url.strip()]\n",
    "\n",
    "    # Initialize loader\n",
    "    loader = WebBaseLoader(web_paths=urls)\n",
    "\n",
    "    # Collect documents asynchronously\n",
    "    web_docs = []\n",
    "    async for doc in loader.alazy_load():\n",
    "        web_docs.append(doc)\n",
    "\n",
    "    print(f\"Number of websites loaded: {len(web_docs)}\")\n",
    "    return web_docs\n",
    "\n",
    "def get_document_docs(doc_folder = './data/policies/'):\n",
    "    \n",
    "    doc_docs = []\n",
    "    for file in os.listdir(doc_folder):\n",
    "        if file.endswith('.pdf'):\n",
    "            loader = PyPDFLoader(os.path.join(doc_folder, file))\n",
    "        elif file.endswith('.docx'):\n",
    "            loader = Docx2txtLoader(os.path.join(doc_folder, file))\n",
    "        doc_docs.extend(loader.load())\n",
    "        \n",
    "    print(f\"number of documents loaded: {len(doc_docs)}\")\n",
    "    return doc_docs"
   ]
  },
  {
   "cell_type": "code",
   "execution_count": 3,
   "id": "0ef4f980-6478-43e8-8d08-0656fef36cc2",
   "metadata": {},
   "outputs": [
    {
     "name": "stdout",
     "output_type": "stream",
     "text": [
      "number of documents loaded: 70\n"
     ]
    }
   ],
   "source": [
    "doc_docs = get_document_docs()"
   ]
  },
  {
   "cell_type": "code",
   "execution_count": 4,
   "id": "771c3828-d162-4bf0-a84e-a68f6f7758f2",
   "metadata": {},
   "outputs": [
    {
     "name": "stderr",
     "output_type": "stream",
     "text": [
      "Fetching pages: 100%|##################################################################| 10/10 [00:03<00:00,  2.95it/s]\n"
     ]
    },
    {
     "name": "stdout",
     "output_type": "stream",
     "text": [
      "Number of websites loaded: 10\n"
     ]
    }
   ],
   "source": [
    "web_docs = await get_website_docs()"
   ]
  },
  {
   "cell_type": "code",
   "execution_count": 5,
   "id": "a088a1c5-a569-42e8-b134-111ec0655305",
   "metadata": {},
   "outputs": [],
   "source": [
    "text_splitter = RecursiveCharacterTextSplitter(chunk_size=500, chunk_overlap=100)\n",
    "chunked_documents = text_splitter.split_documents(doc_docs + web_docs)"
   ]
  },
  {
   "cell_type": "code",
   "execution_count": 6,
   "id": "aee5e478-44e5-4fcd-addc-d58da93b7482",
   "metadata": {},
   "outputs": [],
   "source": [
    "embeddings = OllamaEmbeddings(model=\"deepseek-r1\")"
   ]
  },
  {
   "cell_type": "code",
   "execution_count": 7,
   "id": "fa1685ce-8975-41ea-a1d8-7d3d5d4ed233",
   "metadata": {},
   "outputs": [],
   "source": [
    "llm = OllamaLLM(model=\"deepseek-r1\")"
   ]
  },
  {
   "cell_type": "code",
   "execution_count": 8,
   "id": "695a63cd-fcb9-42d2-9ba6-ad7c4f557c09",
   "metadata": {},
   "outputs": [],
   "source": [
    "vector_store = FAISS.from_documents(chunked_documents, embeddings)"
   ]
  },
  {
   "cell_type": "code",
   "execution_count": 12,
   "id": "e5173bcc-2785-4339-9a4e-ea92fb58f028",
   "metadata": {},
   "outputs": [],
   "source": [
    "prompt = ChatPromptTemplate.from_template(\n",
    "    \"\"\"\n",
    "    Answer the question based on the provied context only.\n",
    "    Please provide the most accurate respone based on the question\n",
    "    <context>\n",
    "    {context}\n",
    "    <context>\n",
    "    Question: {input}\n",
    "    \"\"\"\n",
    ")"
   ]
  },
  {
   "cell_type": "code",
   "execution_count": 13,
   "id": "48e9e2b2-4e5f-4ac1-b37b-48be51badb7a",
   "metadata": {},
   "outputs": [],
   "source": [
    "doc_chain = create_stuff_documents_chain(llm, prompt)\n",
    "retriever = vector_store.as_retriever()\n",
    "retriever_chain  = create_retrieval_chain(retriever, doc_chain)"
   ]
  },
  {
   "cell_type": "code",
   "execution_count": 14,
   "id": "4ad9f4f3-ae2e-4034-88f9-65fc93f4f0ec",
   "metadata": {},
   "outputs": [],
   "source": []
  }
 ],
 "metadata": {
  "kernelspec": {
   "display_name": "Python 3 (ipykernel)",
   "language": "python",
   "name": "python3"
  },
  "language_info": {
   "codemirror_mode": {
    "name": "ipython",
    "version": 3
   },
   "file_extension": ".py",
   "mimetype": "text/x-python",
   "name": "python",
   "nbconvert_exporter": "python",
   "pygments_lexer": "ipython3",
   "version": "3.10.16"
  }
 },
 "nbformat": 4,
 "nbformat_minor": 5
}
