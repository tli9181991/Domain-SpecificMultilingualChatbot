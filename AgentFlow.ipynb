{
 "cells": [
  {
   "cell_type": "code",
   "execution_count": 1,
   "id": "f47eaef3-c030-4e51-a4c1-71810fa71986",
   "metadata": {},
   "outputs": [
    {
     "name": "stderr",
     "output_type": "stream",
     "text": [
      "USER_AGENT environment variable not set, consider setting it to identify your requests.\n"
     ]
    }
   ],
   "source": [
    "import bs4\n",
    "from langchain_community.document_loaders import WebBaseLoader, PyPDFLoader, Docx2txtLoader\n",
    "from langchain_text_splitters import RecursiveCharacterTextSplitter\n",
    "from langchain_ollama import OllamaEmbeddings\n",
    "from langchain_community.embeddings import HuggingFaceEmbeddings\n",
    "from langchain_community.vectorstores import FAISS\n",
    "from langchain_ollama.llms import OllamaLLM\n",
    "from langchain.chains import RetrievalQA\n",
    "from langchain.chains import create_history_aware_retriever, create_retrieval_chain\n",
    "from langchain.chains.combine_documents import create_stuff_documents_chain\n",
    "from langchain_core.prompts import ChatPromptTemplate, MessagesPlaceholder\n",
    "from langchain_community.chat_message_histories import ChatMessageHistory\n",
    "from langchain_core.runnables.history import RunnableWithMessageHistory\n",
    "from langchain_core.chat_history import BaseChatMessageHistory\n",
    "import os"
   ]
  },
  {
   "cell_type": "markdown",
   "id": "31d15b0c-a8d1-4d26-849d-5c1fab14f7a5",
   "metadata": {},
   "source": [
    "## **Create vector DB for RAG agents**"
   ]
  },
  {
   "cell_type": "code",
   "execution_count": 35,
   "id": "b4a054ee-1072-49b0-bed4-264e4a2e9985",
   "metadata": {},
   "outputs": [],
   "source": [
    "async def get_website_docs(urls_path='./data/ITFAQ_websit.txt'):\n",
    "    # Clean URLs\n",
    "    with open(urls_path, 'r') as f:\n",
    "        urls = [url.strip() for url in f.readlines() if url.strip()]\n",
    "\n",
    "    # Initialize loader\n",
    "    loader = WebBaseLoader(web_paths=urls)\n",
    "\n",
    "    # Collect documents asynchronously\n",
    "    web_docs = []\n",
    "    async for doc in loader.alazy_load():\n",
    "        web_docs.append(doc)\n",
    "\n",
    "    print(f\"Number of websites loaded: {len(web_docs)}\")\n",
    "    return web_docs\n",
    "\n",
    "def get_document_docs(doc_folder = './data/policies/'):\n",
    "    \n",
    "    doc_docs = []\n",
    "    for file in os.listdir(doc_folder):\n",
    "        if file.startswith('~') or file.startswith('.'):\n",
    "            continue\n",
    "        \n",
    "        if file.endswith('.pdf'):\n",
    "            loader = PyPDFLoader(os.path.join(doc_folder, file))\n",
    "            doc_docs.extend(loader.load())\n",
    "        elif file.endswith('.docx'):\n",
    "            loader = Docx2txtLoader(os.path.join(doc_folder, file))\n",
    "            doc_docs.extend(loader.load())\n",
    "        \n",
    "    print(f\"number of documents loaded: {len(doc_docs)}\")\n",
    "    return doc_docs"
   ]
  },
  {
   "cell_type": "code",
   "execution_count": 36,
   "id": "8864b8a9-fb15-47b9-88f4-24870bff7bd5",
   "metadata": {},
   "outputs": [
    {
     "name": "stdout",
     "output_type": "stream",
     "text": [
      "number of documents loaded: 69\n"
     ]
    }
   ],
   "source": [
    "hr_docs = get_document_docs()"
   ]
  },
  {
   "cell_type": "code",
   "execution_count": 37,
   "id": "943c5c48-cc08-4726-8d4b-0be4d2189c6d",
   "metadata": {},
   "outputs": [
    {
     "name": "stderr",
     "output_type": "stream",
     "text": [
      "Fetching pages: 100%|##################################################################| 10/10 [00:08<00:00,  1.22it/s]\n"
     ]
    },
    {
     "name": "stdout",
     "output_type": "stream",
     "text": [
      "Number of websites loaded: 10\n"
     ]
    }
   ],
   "source": [
    "web_docs = await get_website_docs()"
   ]
  },
  {
   "cell_type": "code",
   "execution_count": 40,
   "id": "21eda6f1-cd03-47f5-9655-f1a825cd8223",
   "metadata": {},
   "outputs": [
    {
     "name": "stderr",
     "output_type": "stream",
     "text": [
      "C:\\Users\\wx-zh\\anaconda3\\envs\\llm\\lib\\site-packages\\tqdm\\auto.py:21: TqdmWarning: IProgress not found. Please update jupyter and ipywidgets. See https://ipywidgets.readthedocs.io/en/stable/user_install.html\n",
      "  from .autonotebook import tqdm as notebook_tqdm\n",
      "C:\\Users\\wx-zh\\anaconda3\\envs\\llm\\lib\\site-packages\\huggingface_hub\\file_download.py:144: UserWarning: `huggingface_hub` cache-system uses symlinks by default to efficiently store duplicated files but your machine does not support them in C:\\Users\\wx-zh\\.cache\\huggingface\\hub\\models--sentence-transformers--all-MiniLM-L6-v2. Caching files will still work but in a degraded version that might require more space on your disk. This warning can be disabled by setting the `HF_HUB_DISABLE_SYMLINKS_WARNING` environment variable. For more details, see https://huggingface.co/docs/huggingface_hub/how-to-cache#limitations.\n",
      "To support symlinks on Windows, you either need to activate Developer Mode or to run Python as an administrator. In order to activate developer mode, see this article: https://docs.microsoft.com/en-us/windows/apps/get-started/enable-your-device-for-development\n",
      "  warnings.warn(message)\n",
      "Xet Storage is enabled for this repo, but the 'hf_xet' package is not installed. Falling back to regular HTTP download. For better performance, install the package with: `pip install huggingface_hub[hf_xet]` or `pip install hf_xet`\n"
     ]
    }
   ],
   "source": [
    "# embeddings = OllamaEmbeddings(model=\"deepseek-r1\")\n",
    "embeddings = HuggingFaceEmbeddings(model_name=\"sentence-transformers/all-MiniLM-L6-v2\")"
   ]
  },
  {
   "cell_type": "code",
   "execution_count": 42,
   "id": "484c42e1-b26c-4536-873c-9fa107f544f0",
   "metadata": {},
   "outputs": [],
   "source": [
    "def build_vectorstore(docs, embedding_model):\n",
    "    chunks = RecursiveCharacterTextSplitter(chunk_size=500, chunk_overlap=50).split_documents(docs)\n",
    "    return FAISS.from_documents(chunks, embedding_model)\n",
    "\n",
    "hr_db = build_vectorstore(hr_docs, embeddings)\n",
    "it_db = build_vectorstore(web_docs, embeddings)"
   ]
  },
  {
   "cell_type": "markdown",
   "id": "d6d9671a-f8c8-4b48-897f-d6824580444f",
   "metadata": {},
   "source": [
    "## **Define the router agnet**"
   ]
  },
  {
   "cell_type": "code",
   "execution_count": 43,
   "id": "6d50c08f-2ba3-4b68-bab9-8ec87f39b994",
   "metadata": {},
   "outputs": [],
   "source": [
    "from langchain.prompts import PromptTemplate\n",
    "from langchain.chains import LLMChain"
   ]
  },
  {
   "cell_type": "code",
   "execution_count": 44,
   "id": "537fc323-6659-4c80-a79a-cd472af4d2b3",
   "metadata": {},
   "outputs": [],
   "source": [
    "router_prompt = PromptTemplate.from_template(\"\"\"\n",
    "Classify the user question into one domain: HR or IT.\n",
    "\n",
    "Question: {question}\n",
    "Answer with only 'HR' or 'IT'.\n",
    "\"\"\")"
   ]
  },
  {
   "cell_type": "code",
   "execution_count": 45,
   "id": "8a6f3749-f597-4468-87df-c4d239e767c6",
   "metadata": {},
   "outputs": [],
   "source": [
    "router_llm = OllamaLLM(model=\"llama3\")"
   ]
  },
  {
   "cell_type": "code",
   "execution_count": 46,
   "id": "831a13b8-bc24-4386-a39e-c243bcf4b3db",
   "metadata": {},
   "outputs": [],
   "source": [
    "router_chain = router_prompt|router_llm"
   ]
  },
  {
   "cell_type": "markdown",
   "id": "e24f08d1-1be4-4750-9419-fcb4b9d5c191",
   "metadata": {},
   "source": [
    "## **Define the RAG agnets**"
   ]
  },
  {
   "cell_type": "code",
   "execution_count": 48,
   "id": "944b79d3-1511-427b-8f4a-39a0eb6e2420",
   "metadata": {},
   "outputs": [],
   "source": [
    "# rag_llm = OllamaLLM(model=\"deepseek-r1\")\n",
    "rag_llm = OllamaLLM(model=\"llama3\")"
   ]
  },
  {
   "cell_type": "code",
   "execution_count": 49,
   "id": "4c733492-c5a5-4436-82e5-b38aec9face6",
   "metadata": {},
   "outputs": [],
   "source": [
    "rag_prompt = ChatPromptTemplate.from_template(\n",
    "    \"\"\"\n",
    "    Answer the question based on the provied context only.\n",
    "    Please provide the most accurate respone based on the question\n",
    "    <context>\n",
    "    {context}\n",
    "    <context>\n",
    "    Question: {input}\n",
    "    \"\"\"\n",
    ")"
   ]
  },
  {
   "cell_type": "code",
   "execution_count": 50,
   "id": "f87ba630-dd50-4cb9-8a33-6df2455ddf9f",
   "metadata": {},
   "outputs": [],
   "source": [
    "hr_doc_chain = create_stuff_documents_chain(rag_llm, rag_prompt)\n",
    "hr_retriever = hr_db.as_retriever()\n",
    "hr_chain  = create_retrieval_chain(hr_retriever, hr_doc_chain)\n",
    "\n",
    "it_doc_chain = create_stuff_documents_chain(rag_llm, rag_prompt)\n",
    "it_retriever = it_db.as_retriever()\n",
    "it_chain  = create_retrieval_chain(it_retriever, it_doc_chain)"
   ]
  },
  {
   "cell_type": "code",
   "execution_count": 54,
   "id": "b6a18133-75d1-452e-91c1-bf136bb1572b",
   "metadata": {},
   "outputs": [
    {
     "data": {
      "text/plain": [
       "'Information Security refers to the protection of information assets in order to achieve Confidentiality, Integrity and Availability (C-I-A).'"
      ]
     },
     "execution_count": 54,
     "metadata": {},
     "output_type": "execute_result"
    }
   ],
   "source": [
    "response = it_chain.invoke({'input': 'What is Information Security?'})\n",
    "response['answer']"
   ]
  },
  {
   "cell_type": "code",
   "execution_count": 55,
   "id": "c332039b-dc7c-487f-b4a9-c7829ccd24f3",
   "metadata": {},
   "outputs": [
    {
     "data": {
      "text/plain": [
       "\"According to the provided context, the aims of the Company's Alcohol Policy are:\\n\\n1. To promote awareness of alcohol-related problems and addiction;\\n2. To encourage a sensible approach to drinking alcohol;\\n3. To ensure that the Company complies with its legal obligations;\\n4. To comply with the Company's legal obligations to provide a safe and healthy working environment for all staff;\\n5. To comply with all of the requirements imposed by law;\\n6. To raise awareness of the effects of drug misuse and its likely symptoms;\\n7. To ensure that employees are aware of their responsibilities regarding drug misuse and related problems;\\n8. To indicate restrictions on drinking alcohol at work;\\n9. To protect Employees from the dangers of alcohol abuse; and\\n10. To support Employees with an alcohol-related problem.\""
      ]
     },
     "execution_count": 55,
     "metadata": {},
     "output_type": "execute_result"
    }
   ],
   "source": [
    "response = hr_chain.invoke({'input': 'What is the aim of Alcohol Policy?'})\n",
    "response['answer']"
   ]
  },
  {
   "cell_type": "markdown",
   "id": "0999b6c4-f205-43b6-bd4b-3fc9f80184f6",
   "metadata": {},
   "source": [
    "## **Define the nodes**"
   ]
  },
  {
   "cell_type": "code",
   "execution_count": 58,
   "id": "3d4702aa-da1a-442e-bcf5-634640ff8730",
   "metadata": {},
   "outputs": [],
   "source": [
    "from typing import TypedDict"
   ]
  },
  {
   "cell_type": "code",
   "execution_count": 59,
   "id": "6554aff6-5a63-495a-9791-82b528ae8cd1",
   "metadata": {},
   "outputs": [],
   "source": [
    "class State(TypedDict):\n",
    "    question: str\n",
    "    # chat_history: str\n",
    "    domain: str\n",
    "    answer: str"
   ]
  },
  {
   "cell_type": "code",
   "execution_count": 60,
   "id": "2b04b308-a88b-49c7-bd86-67c05884a9c8",
   "metadata": {},
   "outputs": [],
   "source": [
    "def classify_domain(state: State) -> State:\n",
    "    domain = router_chain.invoke({\n",
    "        \"question\": state[\"question\"]\n",
    "    }).strip()\n",
    "\n",
    "    state[\"domain\"] = \"HR\" if \"HR\" in domain.upper() else \"IT\"\n",
    "    return state"
   ]
  },
  {
   "cell_type": "code",
   "execution_count": 61,
   "id": "79e58913-7c32-421b-86f9-9ad2e4022dc0",
   "metadata": {},
   "outputs": [],
   "source": [
    "def hr_answer(state: State) -> State:\n",
    "    response = hr_chain.invoke({'input': state[\"question\"]})\n",
    "    state[\"answer\"] = response['answer']\n",
    "    return state"
   ]
  },
  {
   "cell_type": "code",
   "execution_count": 62,
   "id": "c871a6b2-3a3e-4a05-a530-0af858a8d0d5",
   "metadata": {},
   "outputs": [],
   "source": [
    "def it_answer(state: State) -> State:\n",
    "    response = it_chain.invoke({'input': state[\"question\"]})\n",
    "    state[\"answer\"] = response['answer']\n",
    "    return state"
   ]
  },
  {
   "cell_type": "markdown",
   "id": "e5d3f70d-e3ee-4a3e-8dd5-c3c68ef15df6",
   "metadata": {},
   "source": [
    "## **Create the graph**"
   ]
  },
  {
   "cell_type": "code",
   "execution_count": 63,
   "id": "d0eee1a3-f2e1-4c4c-84b2-923f4c099584",
   "metadata": {},
   "outputs": [],
   "source": [
    "from langgraph.graph import StateGraph, END, START"
   ]
  },
  {
   "cell_type": "code",
   "execution_count": 65,
   "id": "a3b42223-8323-41d0-ab31-d29c6dae5916",
   "metadata": {},
   "outputs": [],
   "source": [
    "def rounter_node(state:State)->State:\n",
    "    if state[\"domain\"] == \"HR\":\n",
    "        return \"HR\"\n",
    "    else:\n",
    "        return \"IT\""
   ]
  },
  {
   "cell_type": "code",
   "execution_count": 66,
   "id": "2a982c68-c86a-423e-815f-2eacb1467bd3",
   "metadata": {},
   "outputs": [],
   "source": [
    "graph = StateGraph(State)\n",
    "\n",
    "graph.add_node(\"cls_node\", classify_domain)\n",
    "graph.add_node(\"hr_rag\", hr_answer)\n",
    "graph.add_node(\"it_rag\", it_answer)\n",
    "\n",
    "graph.add_edge(START, 'cls_node')\n",
    "graph.add_conditional_edges('cls_node', rounter_node, {\"HR\": \"hr_rag\", \"IT\": \"it_rag\"})\n",
    "graph.add_edge('hr_rag', END)\n",
    "graph.add_edge('it_rag', END)\n",
    "\n",
    "app = graph.compile()"
   ]
  },
  {
   "cell_type": "code",
   "execution_count": 67,
   "id": "63df07e1-7a3e-437c-b824-e472f4f8774c",
   "metadata": {},
   "outputs": [
    {
     "data": {
      "image/png": "[encoded data removed]",
      "text/plain": [
       "<IPython.core.display.Image object>"
      ]
     },
     "metadata": {},
     "output_type": "display_data"
    }
   ],
   "source": [
    "from IPython.display import Image, display\n",
    "display(Image(app.get_graph().draw_mermaid_png()))"
   ]
  },
  {
   "cell_type": "markdown",
   "id": "1a10623a-7687-4460-9970-0eac1f71b2e7",
   "metadata": {},
   "source": [
    "## **Demo**"
   ]
  },
  {
   "cell_type": "code",
   "execution_count": 68,
   "id": "09e0da75-2903-4594-a4e6-df3d21c8add1",
   "metadata": {},
   "outputs": [
    {
     "data": {
      "text/plain": [
       "{'question': 'What is Information Security?',\n",
       " 'domain': 'IT',\n",
       " 'answer': 'Information Security refers to the protection of information assets in order to achieve Confidentiality, Integrity, and Availability (C-I-A).'}"
      ]
     },
     "execution_count": 68,
     "metadata": {},
     "output_type": "execute_result"
    }
   ],
   "source": [
    "result = app.invoke({'question': 'What is Information Security?'})\n",
    "result"
   ]
  },
  {
   "cell_type": "code",
   "execution_count": 69,
   "id": "78f78bd6-6cf6-47d7-a8a2-2aea6ed1378d",
   "metadata": {},
   "outputs": [
    {
     "data": {
      "text/plain": [
       "{'question': 'What is the aim of Alcohol Policy?',\n",
       " 'domain': 'HR',\n",
       " 'answer': \"The aim of the Company's Alcohol Policy is to:\\n\\n* Promote awareness of alcohol related problems and addiction\\n* Encourage a sensible approach to drinking alcohol\\n* Ensure that the Company complies with its legal obligations\\n* Comply with the Company’s legal obligations to provide a safe and healthy working environment for all staff\\n* Comply with all of the requirements imposed by law\\n* Raise awareness of the effects of drug misuse and its likely symptoms\\n* Ensure that employees are aware of their responsibilities regarding drug misuse and related problems\\n* Indicate restrictions on drinking alcohol at work\\n* Protect Employees from the dangers of alcohol abuse\\n* Support Employees with an alcohol related problem\"}"
      ]
     },
     "execution_count": 69,
     "metadata": {},
     "output_type": "execute_result"
    }
   ],
   "source": [
    "result = app.invoke({'question': 'What is the aim of Alcohol Policy?'})\n",
    "result"
   ]
  },
  {
   "cell_type": "code",
   "execution_count": null,
   "id": "c68c9dff-5c69-4783-bf37-0cfa06401cde",
   "metadata": {},
   "outputs": [],
   "source": []
  }
 ],
 "metadata": {
  "kernelspec": {
   "display_name": "Python 3 (ipykernel)",
   "language": "python",
   "name": "python3"
  },
  "language_info": {
   "codemirror_mode": {
    "name": "ipython",
    "version": 3
   },
   "file_extension": ".py",
   "mimetype": "text/x-python",
   "name": "python",
   "nbconvert_exporter": "python",
   "pygments_lexer": "ipython3",
   "version": "3.10.16"
  }
 },
 "nbformat": 4,
 "nbformat_minor": 5
}
